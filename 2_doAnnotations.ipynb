{
 "cells": [
  {
   "attachments": {},
   "cell_type": "markdown",
   "metadata": {},
   "source": [
    "# Annotation script\n",
    "This notebook aim at guiding the user through the annotation of images. We are using [labelimg](https://pypi.org/project/labelImg/), a graphical image annotation tool. It is written in Python and uses Qt for its graphical interface. It is fast and easy to use. And open source."
   ]
  },
  {
   "cell_type": "code",
   "execution_count": 1,
   "metadata": {},
   "outputs": [],
   "source": [
    "# Import Operating System\n",
    "import os\n",
    "import time\n",
    "\n",
    "\n",
    "import cv2 as cv\n",
    "from matplotlib import pyplot as plt\n",
    "%matplotlib inline"
   ]
  },
  {
   "cell_type": "markdown",
   "metadata": {},
   "source": [
    "## Setup Image Path"
   ]
  },
  {
   "cell_type": "code",
   "execution_count": null,
   "metadata": {},
   "outputs": [],
   "source": [
    "# setup the path\n",
    "IMAGES_PATH = os.path.join('Tensorflow', 'workspace', 'images')\n",
    "# Setup Collected Image Path\n",
    "image_foders = ['collectedimages','test','train']\n",
    "# setup label paths\n",
    "LABELS_PATH = os.path.join(IMAGES_PATH,image_foders[0])"
   ]
  },
  {
   "cell_type": "markdown",
   "metadata": {},
   "source": [
    "# Select your images"
   ]
  },
  {
   "cell_type": "markdown",
   "metadata": {},
   "source": [
    "### Define your detection labels"
   ]
  },
  {
   "cell_type": "code",
   "execution_count": null,
   "metadata": {},
   "outputs": [],
   "source": [
    "# define the annotation labels\n",
    "# NOTE: the labels are the same as in 1_installer.ipynb\n",
    "labels = ['briller']\n"
   ]
  },
  {
   "cell_type": "code",
   "execution_count": null,
   "metadata": {},
   "outputs": [],
   "source": [
    "# create image folders if they don't exist\n",
    "if not os.path.exists(IMAGES_PATH):\n",
    "    if os.name == 'posix':\n",
    "        !mkdir -p {IMAGES_PATH}\n",
    "for folders in image_foders:\n",
    "    path = os.path.join(IMAGES_PATH, folders)\n",
    "    if not os.path.exists(path):\n",
    "        !mkdir {path}\n",
    "# create label folders if they don't exist\n",
    "if not os.path.exists(LABELS_PATH):\n",
    "    if os.name == 'posix':\n",
    "        !mkdir -p {IMAGES_PATH}\n",
    "for label in labels:\n",
    "    path = os.path.join(LABELS_PATH, label)\n",
    "    if not os.path.exists(path):\n",
    "        !mkdir {path}"
   ]
  },
  {
   "attachments": {},
   "cell_type": "markdown",
   "metadata": {},
   "source": [
    "# Capture images with webcam\n",
    " This will create a folder with the current date and time\n",
    " The images will be saved in this folder\n",
    " The folder will be created in the same directory as this notebook\n",
    " The images will be saved in the folder with the name \"images\"\n",
    "\n"
   ]
  },
  {
   "cell_type": "code",
   "execution_count": null,
   "metadata": {},
   "outputs": [],
   "source": [
    "\n",
    "\n",
    "IMAGE_CATHEGORY =  os.path.join(LABELS_PATH,labels[0])\n",
    "# create a webcam object and read the image\n",
    "webcam = cv.VideoCapture(0)\n",
    "# make the webcam only show the latest image\n",
    "webcam.set(cv.CAP_PROP_BUFFERSIZE, 1)\n",
    "# read 10 images and save them\n",
    "for i in range(10):\n",
    "    # read the image\n",
    "    status, image = webcam.read()\n",
    "    print(\"status: {}\".format(status))\n",
    "    # show the image\n",
    "    plt.imshow(cv.cvtColor(image, cv.COLOR_BGR2RGB))\n",
    "    plt.show()\n",
    "    # save the image\n",
    "    print(\"Saving image {}\".format(i))\n",
    "    # resize the image to fit the model (320,320)\n",
    "    image = cv.resize(image, (320,320))\n",
    "    cv.imwrite(IMAGE_CATHEGORY+\"/{}.png\".format(i), image)\n",
    "    # wait 5 seconds\n",
    "    time.sleep(5)\n",
    "    \n",
    "# close the webcam\n",
    "webcam.release()\n",
    "\n"
   ]
  },
  {
   "cell_type": "markdown",
   "metadata": {},
   "source": []
  },
  {
   "cell_type": "markdown",
   "metadata": {},
   "source": [
    "## How To Work With label Img\n",
    "First action is to open the program, we do that by running the following code block.\n",
    "\n",
    "Next item is to select our working directory inside LabelImg. \n",
    "-> Click on the button 'Open Dir'\n",
    "\n",
    "Now, select the folder where your images are stored in.\n",
    "\n",
    "We should now be presented with the first image in the folder, and also\n",
    "a list of images in the box area in the buttom right corner.\n",
    "\n",
    "In order to annotate the image, we will click on the button called 'Create RectBox' ( shortcut 'w' )\n",
    "And now we can create a rectangle around the object we are interested in.\n",
    "\n",
    "**Make sure to name the label the same as in your script**\n",
    "\n",
    "Continue this process with every image inside your folder.\n"
   ]
  },
  {
   "cell_type": "code",
   "execution_count": null,
   "metadata": {},
   "outputs": [],
   "source": [
    "# Open Label img by clicking the code block and hit Shift + Enter\n",
    "!labelImg "
   ]
  },
  {
   "cell_type": "code",
   "execution_count": null,
   "metadata": {},
   "outputs": [],
   "source": []
  },
  {
   "attachments": {},
   "cell_type": "markdown",
   "metadata": {},
   "source": [
    "# Create a test and train set\n",
    "At this point we have annotated all our images and we are ready to create a test and train set.\n",
    "We will open up the folder where our images are stored in and create a folder called 'test' and 'train' inside this folder.\n",
    "Execute the following code block to open up the folder where your images are stored in.\n",
    "\n",
    "Next step is to move the images into the test and train folder. Usually we want to have 20% of our images in the test folder and 80% in the train folder.\n"
   ]
  },
  {
   "cell_type": "code",
   "execution_count": 3,
   "metadata": {},
   "outputs": [],
   "source": [
    "# open up the folder where the training and test set should be allocated\n",
    "!xdg-open \"./Tensorflow/workspace/images\""
   ]
  },
  {
   "cell_type": "code",
   "execution_count": null,
   "metadata": {},
   "outputs": [],
   "source": []
  }
 ],
 "metadata": {
  "kernelspec": {
   "display_name": "Python 3.8.10 ('tfod')",
   "language": "python",
   "name": "python3"
  },
  "language_info": {
   "codemirror_mode": {
    "name": "ipython",
    "version": 3
   },
   "file_extension": ".py",
   "mimetype": "text/x-python",
   "name": "python",
   "nbconvert_exporter": "python",
   "pygments_lexer": "ipython3",
   "version": "3.8.10"
  },
  "orig_nbformat": 4,
  "vscode": {
   "interpreter": {
    "hash": "486242a06600517ef234e6a5661909cfa790baee70db56b9c8385d9909756cc2"
   }
  }
 },
 "nbformat": 4,
 "nbformat_minor": 2
}
